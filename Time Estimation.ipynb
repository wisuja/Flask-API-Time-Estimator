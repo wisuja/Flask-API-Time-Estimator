{
 "cells": [
  {
   "cell_type": "code",
   "execution_count": 1,
   "id": "8af02c48",
   "metadata": {},
   "outputs": [],
   "source": [
    "# import mysql.connector as connection\n",
    "import pandas as pd\n",
    "import matplotlib.pyplot as plt\n",
    "import pickle\n",
    "import math\n",
    "import numpy as np\n",
    "import seaborn as sns\n",
    "from sklearn.linear_model import LinearRegression\n",
    "from sklearn.model_selection import train_test_split\n",
    "from sklearn.metrics import mean_squared_error, mean_absolute_error\n",
    "from sklearn.preprocessing import MinMaxScaler"
   ]
  },
  {
   "cell_type": "code",
   "execution_count": 2,
   "id": "98d12522",
   "metadata": {},
   "outputs": [],
   "source": [
    "# host = 'localhost'\n",
    "# username = 'root'\n",
    "# passwd = ''\n",
    "# database = 'db_ml_dummies'"
   ]
  },
  {
   "cell_type": "code",
   "execution_count": 3,
   "id": "fdea930f",
   "metadata": {},
   "outputs": [],
   "source": [
    "# try:\n",
    "#     db = connection.connect(host=host, database=database,user=username, passwd=passwd,use_pure=True)\n",
    "#     query = \"SELECT * FROM tasks;\"\n",
    "#     df = pd.read_sql(query, db)\n",
    "#     db.close()\n",
    "# except Exception as e:\n",
    "#     db.close()\n",
    "#     print(str(e))"
   ]
  },
  {
   "cell_type": "code",
   "execution_count": 4,
   "id": "1f940bc3",
   "metadata": {},
   "outputs": [],
   "source": [
    "df = pd.read_csv('inserted_tasks.csv')"
   ]
  },
  {
   "cell_type": "code",
   "execution_count": 5,
   "id": "f2b052a6",
   "metadata": {},
   "outputs": [
    {
     "name": "stdout",
     "output_type": "stream",
     "text": [
      "<class 'pandas.core.frame.DataFrame'>\n",
      "RangeIndex: 20 entries, 0 to 19\n",
      "Data columns (total 3 columns):\n",
      " #   Column                     Non-Null Count  Dtype\n",
      "---  ------                     --------------  -----\n",
      " 0   task_type                  20 non-null     int64\n",
      " 1   number_of_peoples          20 non-null     int64\n",
      " 2   estimated_time_in_minutes  20 non-null     int64\n",
      "dtypes: int64(3)\n",
      "memory usage: 544.0 bytes\n"
     ]
    }
   ],
   "source": [
    "df.info()"
   ]
  },
  {
   "cell_type": "code",
   "execution_count": 6,
   "id": "9b2b198a",
   "metadata": {},
   "outputs": [
    {
     "data": {
      "text/html": [
       "<div>\n",
       "<style scoped>\n",
       "    .dataframe tbody tr th:only-of-type {\n",
       "        vertical-align: middle;\n",
       "    }\n",
       "\n",
       "    .dataframe tbody tr th {\n",
       "        vertical-align: top;\n",
       "    }\n",
       "\n",
       "    .dataframe thead th {\n",
       "        text-align: right;\n",
       "    }\n",
       "</style>\n",
       "<table border=\"1\" class=\"dataframe\">\n",
       "  <thead>\n",
       "    <tr style=\"text-align: right;\">\n",
       "      <th></th>\n",
       "      <th>task_type</th>\n",
       "      <th>number_of_peoples</th>\n",
       "      <th>estimated_time_in_minutes</th>\n",
       "    </tr>\n",
       "  </thead>\n",
       "  <tbody>\n",
       "    <tr>\n",
       "      <th>0</th>\n",
       "      <td>1</td>\n",
       "      <td>1</td>\n",
       "      <td>1440</td>\n",
       "    </tr>\n",
       "    <tr>\n",
       "      <th>1</th>\n",
       "      <td>1</td>\n",
       "      <td>2</td>\n",
       "      <td>1080</td>\n",
       "    </tr>\n",
       "    <tr>\n",
       "      <th>2</th>\n",
       "      <td>1</td>\n",
       "      <td>1</td>\n",
       "      <td>2160</td>\n",
       "    </tr>\n",
       "    <tr>\n",
       "      <th>3</th>\n",
       "      <td>1</td>\n",
       "      <td>2</td>\n",
       "      <td>1200</td>\n",
       "    </tr>\n",
       "    <tr>\n",
       "      <th>4</th>\n",
       "      <td>1</td>\n",
       "      <td>3</td>\n",
       "      <td>720</td>\n",
       "    </tr>\n",
       "  </tbody>\n",
       "</table>\n",
       "</div>"
      ],
      "text/plain": [
       "   task_type  number_of_peoples  estimated_time_in_minutes\n",
       "0          1                  1                       1440\n",
       "1          1                  2                       1080\n",
       "2          1                  1                       2160\n",
       "3          1                  2                       1200\n",
       "4          1                  3                        720"
      ]
     },
     "execution_count": 6,
     "metadata": {},
     "output_type": "execute_result"
    }
   ],
   "source": [
    "df.head()"
   ]
  },
  {
   "cell_type": "code",
   "execution_count": 7,
   "id": "a3dc4428",
   "metadata": {},
   "outputs": [
    {
     "data": {
      "text/html": [
       "<div>\n",
       "<style scoped>\n",
       "    .dataframe tbody tr th:only-of-type {\n",
       "        vertical-align: middle;\n",
       "    }\n",
       "\n",
       "    .dataframe tbody tr th {\n",
       "        vertical-align: top;\n",
       "    }\n",
       "\n",
       "    .dataframe thead th {\n",
       "        text-align: right;\n",
       "    }\n",
       "</style>\n",
       "<table border=\"1\" class=\"dataframe\">\n",
       "  <thead>\n",
       "    <tr style=\"text-align: right;\">\n",
       "      <th></th>\n",
       "      <th>task_type</th>\n",
       "      <th>number_of_peoples</th>\n",
       "      <th>estimated_time_in_minutes</th>\n",
       "    </tr>\n",
       "  </thead>\n",
       "  <tbody>\n",
       "    <tr>\n",
       "      <th>count</th>\n",
       "      <td>20.000000</td>\n",
       "      <td>20.000000</td>\n",
       "      <td>20.000000</td>\n",
       "    </tr>\n",
       "    <tr>\n",
       "      <th>mean</th>\n",
       "      <td>1.900000</td>\n",
       "      <td>1.800000</td>\n",
       "      <td>985.500000</td>\n",
       "    </tr>\n",
       "    <tr>\n",
       "      <th>std</th>\n",
       "      <td>0.852242</td>\n",
       "      <td>0.833509</td>\n",
       "      <td>728.065027</td>\n",
       "    </tr>\n",
       "    <tr>\n",
       "      <th>min</th>\n",
       "      <td>1.000000</td>\n",
       "      <td>1.000000</td>\n",
       "      <td>90.000000</td>\n",
       "    </tr>\n",
       "    <tr>\n",
       "      <th>25%</th>\n",
       "      <td>1.000000</td>\n",
       "      <td>1.000000</td>\n",
       "      <td>240.000000</td>\n",
       "    </tr>\n",
       "    <tr>\n",
       "      <th>50%</th>\n",
       "      <td>2.000000</td>\n",
       "      <td>2.000000</td>\n",
       "      <td>1110.000000</td>\n",
       "    </tr>\n",
       "    <tr>\n",
       "      <th>75%</th>\n",
       "      <td>3.000000</td>\n",
       "      <td>2.250000</td>\n",
       "      <td>1350.000000</td>\n",
       "    </tr>\n",
       "    <tr>\n",
       "      <th>max</th>\n",
       "      <td>3.000000</td>\n",
       "      <td>3.000000</td>\n",
       "      <td>2880.000000</td>\n",
       "    </tr>\n",
       "  </tbody>\n",
       "</table>\n",
       "</div>"
      ],
      "text/plain": [
       "       task_type  number_of_peoples  estimated_time_in_minutes\n",
       "count  20.000000          20.000000                  20.000000\n",
       "mean    1.900000           1.800000                 985.500000\n",
       "std     0.852242           0.833509                 728.065027\n",
       "min     1.000000           1.000000                  90.000000\n",
       "25%     1.000000           1.000000                 240.000000\n",
       "50%     2.000000           2.000000                1110.000000\n",
       "75%     3.000000           2.250000                1350.000000\n",
       "max     3.000000           3.000000                2880.000000"
      ]
     },
     "execution_count": 7,
     "metadata": {},
     "output_type": "execute_result"
    }
   ],
   "source": [
    "df.describe()"
   ]
  },
  {
   "cell_type": "code",
   "execution_count": 8,
   "id": "1835e4f1",
   "metadata": {},
   "outputs": [
    {
     "data": {
      "text/plain": [
       "(20, 3)"
      ]
     },
     "execution_count": 8,
     "metadata": {},
     "output_type": "execute_result"
    }
   ],
   "source": [
    "df.shape"
   ]
  },
  {
   "cell_type": "code",
   "execution_count": 9,
   "id": "0ef136a5",
   "metadata": {},
   "outputs": [
    {
     "data": {
      "text/plain": [
       "<AxesSubplot:>"
      ]
     },
     "execution_count": 9,
     "metadata": {},
     "output_type": "execute_result"
    },
    {
     "data": {
      "image/png": "[encoded data removed]",
      "text/plain": [
       "<Figure size 432x288 with 2 Axes>"
      ]
     },
     "metadata": {
      "needs_background": "light"
     },
     "output_type": "display_data"
    }
   ],
   "source": [
    "sns.heatmap(df.corr(), annot=True)"
   ]
  },
  {
   "cell_type": "code",
   "execution_count": 10,
   "id": "beb6f257",
   "metadata": {},
   "outputs": [],
   "source": [
    "# df.to_csv('inserted_tasks.csv', index=False)"
   ]
  },
  {
   "cell_type": "code",
   "execution_count": 11,
   "id": "e66eccf3",
   "metadata": {},
   "outputs": [],
   "source": [
    "# scaler = MinMaxScaler()\n",
    "# scaler.fit(df)\n",
    "# df[list(df.columns)] = scaler.transform(df)"
   ]
  },
  {
   "cell_type": "code",
   "execution_count": 12,
   "id": "623b8c47",
   "metadata": {},
   "outputs": [],
   "source": [
    "X = df.drop(columns=\"estimated_time_in_minutes\")\n",
    "y = pd.Series(df['estimated_time_in_minutes'])\n",
    "X_train, X_test, y_train, y_test = train_test_split(X, y, test_size=0.2, random_state=42)"
   ]
  },
  {
   "cell_type": "code",
   "execution_count": 13,
   "id": "a42b1e98",
   "metadata": {},
   "outputs": [
    {
     "data": {
      "text/plain": [
       "LinearRegression()"
      ]
     },
     "execution_count": 13,
     "metadata": {},
     "output_type": "execute_result"
    }
   ],
   "source": [
    "linReg = LinearRegression()\n",
    "\n",
    "linReg.fit(X_train, y_train)"
   ]
  },
  {
   "cell_type": "code",
   "execution_count": 14,
   "id": "fa369874",
   "metadata": {},
   "outputs": [
    {
     "name": "stdout",
     "output_type": "stream",
     "text": [
      "0.5328025673872403\n",
      "[-434.63495575 -243.15265487]\n",
      "2318.9767699115046\n"
     ]
    }
   ],
   "source": [
    "# R2 Score\n",
    "print(linReg.score(X_test, y_test))\n",
    "# Coefficient\n",
    "print(linReg.coef_)\n",
    "# Intercept\n",
    "print(linReg.intercept_)"
   ]
  },
  {
   "cell_type": "code",
   "execution_count": 15,
   "id": "b0918611",
   "metadata": {},
   "outputs": [
    {
     "name": "stdout",
     "output_type": "stream",
     "text": [
      "[1641.18915929  528.76659292  771.91924779 1398.03650442]\n"
     ]
    }
   ],
   "source": [
    "y_pred =  linReg.predict(X_test)\n",
    "print(y_pred)"
   ]
  },
  {
   "cell_type": "code",
   "execution_count": 16,
   "id": "16e6809e",
   "metadata": {},
   "outputs": [],
   "source": [
    "def mean_absolute_percentage_error(y_true, y_pred): \n",
    "    y_true, y_pred = np.array(y_true), np.array(y_pred)\n",
    "    return np.mean(np.abs((y_true - y_pred) / y_true)) * 100"
   ]
  },
  {
   "cell_type": "code",
   "execution_count": 17,
   "id": "52cc6ff0",
   "metadata": {},
   "outputs": [
    {
     "name": "stdout",
     "output_type": "stream",
     "text": [
      "349.97787610619457\n",
      "114.70288301991145\n",
      "136550.12961689432\n",
      "369.52689972029685\n"
     ]
    }
   ],
   "source": [
    "# MAE\n",
    "print(mean_absolute_error(y_test, y_pred))\n",
    "# MAPE\n",
    "print(mean_absolute_percentage_error(y_test, y_pred))\n",
    "# MSE\n",
    "print(mean_squared_error(y_test, y_pred))\n",
    "# RMSE\n",
    "print(math.sqrt(mean_squared_error(y_test, y_pred)))"
   ]
  },
  {
   "cell_type": "code",
   "execution_count": 18,
   "id": "57cab1de",
   "metadata": {},
   "outputs": [],
   "source": [
    "request = {\n",
    "    'task_type': [3],\n",
    "    'number_of_peoples': [3],\n",
    "    # 'estimated_time_in_minutes': [0]\n",
    "}\n",
    "\n",
    "# Create Pandas DataFrame\n",
    "request = pd.DataFrame.from_dict(request)\n",
    "# # Scale the request\n",
    "# request[list(request.columns)] = scaler.transform(request)\n",
    "# Remove unused column\n",
    "# request = request.drop(columns='estimated_time_in_minutes')"
   ]
  },
  {
   "cell_type": "code",
   "execution_count": 19,
   "id": "6a623ce6",
   "metadata": {},
   "outputs": [
    {
     "name": "stdout",
     "output_type": "stream",
     "text": [
      "[285.61393805]\n"
     ]
    }
   ],
   "source": [
    "result = linReg.predict(request)\n",
    "print(result)"
   ]
  },
  {
   "cell_type": "code",
   "execution_count": 20,
   "id": "33bdf25d",
   "metadata": {},
   "outputs": [],
   "source": [
    "# originalRequest = request\n",
    "# originalRequest['estimated_time_in_minutes'] = result[0]\n",
    "# scaledRequest = scaler.inverse_transform(originalRequest);\n",
    "\n",
    "# print(scaledRequest[0, 2])"
   ]
  },
  {
   "cell_type": "code",
   "execution_count": 21,
   "id": "adaedbd9",
   "metadata": {},
   "outputs": [],
   "source": [
    "# save the model to disk\n",
    "# modelname = 'finalized_model.sav'\n",
    "# pickle.dump(linReg, open(modelname, 'wb'))\n",
    "\n",
    "# scalername = 'scaler.sav'\n",
    "# pickle.dump(scaler, open(scalername, 'wb'))"
   ]
  }
 ],
 "metadata": {
  "kernelspec": {
   "display_name": "Python 3",
   "language": "python",
   "name": "python3"
  },
  "language_info": {
   "codemirror_mode": {
    "name": "ipython",
    "version": 3
   },
   "file_extension": ".py",
   "mimetype": "text/x-python",
   "name": "python",
   "nbconvert_exporter": "python",
   "pygments_lexer": "ipython3",
   "version": "3.8.5"
  }
 },
 "nbformat": 4,
 "nbformat_minor": 5
}
