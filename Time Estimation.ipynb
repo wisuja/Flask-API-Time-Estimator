{
 "cells": [
  {
   "cell_type": "code",
   "execution_count": 1599,
   "id": "8af02c48",
   "metadata": {},
   "outputs": [],
   "source": [
    "# import mysql.connector as connection\n",
    "import pandas as pd\n",
    "import matplotlib.pyplot as plt\n",
    "import pickle\n",
    "import math\n",
    "import numpy as np\n",
    "from sklearn.linear_model import LinearRegression\n",
    "from sklearn.model_selection import train_test_split\n",
    "from sklearn.metrics import mean_squared_error, mean_absolute_error\n",
    "from sklearn.preprocessing import MinMaxScaler"
   ]
  },
  {
   "cell_type": "code",
   "execution_count": 1600,
   "id": "98d12522",
   "metadata": {},
   "outputs": [],
   "source": [
    "# host = 'localhost'\n",
    "# username = 'root'\n",
    "# passwd = ''\n",
    "# database = 'db_ml_dummies'"
   ]
  },
  {
   "cell_type": "code",
   "execution_count": 1601,
   "id": "fdea930f",
   "metadata": {},
   "outputs": [],
   "source": [
    "# try:\n",
    "#     db = connection.connect(host=host, database=database,user=username, passwd=passwd,use_pure=True)\n",
    "#     query = \"SELECT * FROM tasks;\"\n",
    "#     df = pd.read_sql(query, db)\n",
    "#     db.close()\n",
    "# except Exception as e:\n",
    "#     db.close()\n",
    "#     print(str(e))"
   ]
  },
  {
   "cell_type": "code",
   "execution_count": 1602,
   "id": "1f940bc3",
   "metadata": {},
   "outputs": [],
   "source": [
    "df = pd.read_csv('inserted_tasks.csv')"
   ]
  },
  {
   "cell_type": "code",
   "execution_count": 1603,
   "id": "9b2b198a",
   "metadata": {},
   "outputs": [
    {
     "data": {
      "text/html": [
       "<div>\n",
       "<style scoped>\n",
       "    .dataframe tbody tr th:only-of-type {\n",
       "        vertical-align: middle;\n",
       "    }\n",
       "\n",
       "    .dataframe tbody tr th {\n",
       "        vertical-align: top;\n",
       "    }\n",
       "\n",
       "    .dataframe thead th {\n",
       "        text-align: right;\n",
       "    }\n",
       "</style>\n",
       "<table border=\"1\" class=\"dataframe\">\n",
       "  <thead>\n",
       "    <tr style=\"text-align: right;\">\n",
       "      <th></th>\n",
       "      <th>task_type</th>\n",
       "      <th>number_of_peoples</th>\n",
       "      <th>estimated_time_in_minutes</th>\n",
       "    </tr>\n",
       "  </thead>\n",
       "  <tbody>\n",
       "    <tr>\n",
       "      <th>0</th>\n",
       "      <td>1</td>\n",
       "      <td>1</td>\n",
       "      <td>1440</td>\n",
       "    </tr>\n",
       "    <tr>\n",
       "      <th>1</th>\n",
       "      <td>1</td>\n",
       "      <td>2</td>\n",
       "      <td>1080</td>\n",
       "    </tr>\n",
       "    <tr>\n",
       "      <th>2</th>\n",
       "      <td>1</td>\n",
       "      <td>1</td>\n",
       "      <td>2160</td>\n",
       "    </tr>\n",
       "    <tr>\n",
       "      <th>3</th>\n",
       "      <td>1</td>\n",
       "      <td>2</td>\n",
       "      <td>1200</td>\n",
       "    </tr>\n",
       "    <tr>\n",
       "      <th>4</th>\n",
       "      <td>1</td>\n",
       "      <td>3</td>\n",
       "      <td>720</td>\n",
       "    </tr>\n",
       "  </tbody>\n",
       "</table>\n",
       "</div>"
      ],
      "text/plain": [
       "   task_type  number_of_peoples  estimated_time_in_minutes\n",
       "0          1                  1                       1440\n",
       "1          1                  2                       1080\n",
       "2          1                  1                       2160\n",
       "3          1                  2                       1200\n",
       "4          1                  3                        720"
      ]
     },
     "execution_count": 1603,
     "metadata": {},
     "output_type": "execute_result"
    }
   ],
   "source": [
    "df.head()"
   ]
  },
  {
   "cell_type": "code",
   "execution_count": 1604,
   "id": "a3dc4428",
   "metadata": {},
   "outputs": [
    {
     "data": {
      "text/html": [
       "<div>\n",
       "<style scoped>\n",
       "    .dataframe tbody tr th:only-of-type {\n",
       "        vertical-align: middle;\n",
       "    }\n",
       "\n",
       "    .dataframe tbody tr th {\n",
       "        vertical-align: top;\n",
       "    }\n",
       "\n",
       "    .dataframe thead th {\n",
       "        text-align: right;\n",
       "    }\n",
       "</style>\n",
       "<table border=\"1\" class=\"dataframe\">\n",
       "  <thead>\n",
       "    <tr style=\"text-align: right;\">\n",
       "      <th></th>\n",
       "      <th>task_type</th>\n",
       "      <th>number_of_peoples</th>\n",
       "      <th>estimated_time_in_minutes</th>\n",
       "    </tr>\n",
       "  </thead>\n",
       "  <tbody>\n",
       "    <tr>\n",
       "      <th>count</th>\n",
       "      <td>19.000000</td>\n",
       "      <td>19.000000</td>\n",
       "      <td>19.000000</td>\n",
       "    </tr>\n",
       "    <tr>\n",
       "      <th>mean</th>\n",
       "      <td>1.947368</td>\n",
       "      <td>1.842105</td>\n",
       "      <td>974.210526</td>\n",
       "    </tr>\n",
       "    <tr>\n",
       "      <th>std</th>\n",
       "      <td>0.848115</td>\n",
       "      <td>0.834210</td>\n",
       "      <td>750.491067</td>\n",
       "    </tr>\n",
       "    <tr>\n",
       "      <th>min</th>\n",
       "      <td>1.000000</td>\n",
       "      <td>1.000000</td>\n",
       "      <td>90.000000</td>\n",
       "    </tr>\n",
       "    <tr>\n",
       "      <th>25%</th>\n",
       "      <td>1.000000</td>\n",
       "      <td>1.000000</td>\n",
       "      <td>210.000000</td>\n",
       "    </tr>\n",
       "    <tr>\n",
       "      <th>50%</th>\n",
       "      <td>2.000000</td>\n",
       "      <td>2.000000</td>\n",
       "      <td>1080.000000</td>\n",
       "    </tr>\n",
       "    <tr>\n",
       "      <th>75%</th>\n",
       "      <td>3.000000</td>\n",
       "      <td>2.500000</td>\n",
       "      <td>1380.000000</td>\n",
       "    </tr>\n",
       "    <tr>\n",
       "      <th>max</th>\n",
       "      <td>3.000000</td>\n",
       "      <td>3.000000</td>\n",
       "      <td>2880.000000</td>\n",
       "    </tr>\n",
       "  </tbody>\n",
       "</table>\n",
       "</div>"
      ],
      "text/plain": [
       "       task_type  number_of_peoples  estimated_time_in_minutes\n",
       "count  19.000000          19.000000                  19.000000\n",
       "mean    1.947368           1.842105                 974.210526\n",
       "std     0.848115           0.834210                 750.491067\n",
       "min     1.000000           1.000000                  90.000000\n",
       "25%     1.000000           1.000000                 210.000000\n",
       "50%     2.000000           2.000000                1080.000000\n",
       "75%     3.000000           2.500000                1380.000000\n",
       "max     3.000000           3.000000                2880.000000"
      ]
     },
     "execution_count": 1604,
     "metadata": {},
     "output_type": "execute_result"
    }
   ],
   "source": [
    "df.describe()"
   ]
  },
  {
   "cell_type": "code",
   "execution_count": 1605,
   "id": "1835e4f1",
   "metadata": {},
   "outputs": [
    {
     "data": {
      "text/plain": [
       "(19, 3)"
      ]
     },
     "execution_count": 1605,
     "metadata": {},
     "output_type": "execute_result"
    }
   ],
   "source": [
    "df.shape"
   ]
  },
  {
   "cell_type": "code",
   "execution_count": 1606,
   "id": "beb6f257",
   "metadata": {},
   "outputs": [],
   "source": [
    "# df.to_csv('tasks.csv', index=False)"
   ]
  },
  {
   "cell_type": "code",
   "execution_count": 1607,
   "id": "e66eccf3",
   "metadata": {},
   "outputs": [
    {
     "name": "stdout",
     "output_type": "stream",
     "text": [
      "    task_type  number_of_peoples  estimated_time_in_minutes\n",
      "0         0.0                0.0                   0.483871\n",
      "1         0.0                0.5                   0.354839\n",
      "2         0.0                0.0                   0.741935\n",
      "3         0.0                0.5                   0.397849\n",
      "4         0.0                1.0                   0.225806\n",
      "5         0.0                1.0                   0.268817\n",
      "6         0.0                0.5                   0.376344\n",
      "7         0.5                0.0                   0.010753\n",
      "8         0.5                0.0                   1.000000\n",
      "9         0.5                1.0                   0.397849\n",
      "10        0.5                0.5                   0.483871\n",
      "11        0.5                0.0                   0.483871\n",
      "12        0.5                1.0                   0.440860\n",
      "13        1.0                0.0                   0.010753\n",
      "14        1.0                0.0                   0.053763\n",
      "15        1.0                0.0                   0.225806\n",
      "16        1.0                0.5                   0.032258\n",
      "17        1.0                0.5                   0.032258\n",
      "18        1.0                1.0                   0.000000\n"
     ]
    }
   ],
   "source": [
    "scaler = MinMaxScaler()\n",
    "scaler.fit(df)\n",
    "df[list(df.columns)] = scaler.transform(df)\n",
    "\n",
    "print(df)"
   ]
  },
  {
   "cell_type": "code",
   "execution_count": 1608,
   "id": "623b8c47",
   "metadata": {},
   "outputs": [],
   "source": [
    "X = df.drop(columns=\"estimated_time_in_minutes\")\n",
    "y = pd.Series(df['estimated_time_in_minutes'])\n",
    "X_train, X_test, y_train, y_test = train_test_split(X, y, test_size=0.2, random_state=42)"
   ]
  },
  {
   "cell_type": "code",
   "execution_count": 1609,
   "id": "a42b1e98",
   "metadata": {},
   "outputs": [
    {
     "data": {
      "text/plain": [
       "LinearRegression()"
      ]
     },
     "execution_count": 1609,
     "metadata": {},
     "output_type": "execute_result"
    }
   ],
   "source": [
    "linReg = LinearRegression()\n",
    "\n",
    "linReg.fit(X_train, y_train)"
   ]
  },
  {
   "cell_type": "code",
   "execution_count": 1610,
   "id": "fa369874",
   "metadata": {},
   "outputs": [
    {
     "name": "stdout",
     "output_type": "stream",
     "text": [
      "-1.6708745530617186\n",
      "[-0.43435859 -0.15703926]\n",
      "0.6095273818454615\n"
     ]
    }
   ],
   "source": [
    "# R2 Score\n",
    "print(linReg.score(X_test, y_test))\n",
    "# Coefficient\n",
    "print(linReg.coef_)\n",
    "# Intercept\n",
    "print(linReg.intercept_)"
   ]
  },
  {
   "cell_type": "code",
   "execution_count": 1611,
   "id": "b0918611",
   "metadata": {},
   "outputs": [
    {
     "name": "stdout",
     "output_type": "stream",
     "text": [
      "[0.60952738 0.45248812 0.39234809 0.53100775]\n"
     ]
    }
   ],
   "source": [
    "y_pred =  linReg.predict(X_test)\n",
    "print(y_pred)"
   ]
  },
  {
   "cell_type": "code",
   "execution_count": 1612,
   "id": "52cc6ff0",
   "metadata": {},
   "outputs": [
    {
     "name": "stdout",
     "output_type": "stream",
     "text": [
      "0.14425481370342597\n",
      "0.022234127392813482\n",
      "0.1491111243094005\n"
     ]
    }
   ],
   "source": [
    "# MAE\n",
    "print(mean_absolute_error(y_test, y_pred))\n",
    "# MSE\n",
    "print(mean_squared_error(y_test, y_pred))\n",
    "# RMSE\n",
    "print(math.sqrt(mean_squared_error(y_test, y_pred)))"
   ]
  },
  {
   "cell_type": "code",
   "execution_count": 1613,
   "id": "57cab1de",
   "metadata": {},
   "outputs": [],
   "source": [
    "request = {\n",
    "    'task_type': [3],\n",
    "    'number_of_peoples': [3],\n",
    "    'estimated_time_in_minutes': [0]\n",
    "}\n",
    "\n",
    "# Create Pandas DataFrame\n",
    "request = pd.DataFrame.from_dict(request)\n",
    "# Scale the request\n",
    "request[list(request.columns)] = scaler.transform(request)\n",
    "# Remove unused column\n",
    "request = request.drop(columns='estimated_time_in_minutes')"
   ]
  },
  {
   "cell_type": "code",
   "execution_count": 1614,
   "id": "6a623ce6",
   "metadata": {},
   "outputs": [
    {
     "name": "stdout",
     "output_type": "stream",
     "text": [
      "[0.01812953]\n"
     ]
    }
   ],
   "source": [
    "result = linReg.predict(request)\n",
    "print(result)"
   ]
  },
  {
   "cell_type": "code",
   "execution_count": 1615,
   "id": "33bdf25d",
   "metadata": {},
   "outputs": [
    {
     "name": "stdout",
     "output_type": "stream",
     "text": [
      "140.5813953488369\n"
     ]
    }
   ],
   "source": [
    "originalRequest = request\n",
    "originalRequest['estimated_time_in_minutes'] = result[0]\n",
    "scaledRequest = scaler.inverse_transform(originalRequest);\n",
    "\n",
    "print(scaledRequest[0, 2])"
   ]
  },
  {
   "cell_type": "code",
   "execution_count": 1616,
   "id": "adaedbd9",
   "metadata": {},
   "outputs": [],
   "source": [
    "# save the model to disk\n",
    "modelname = 'finalized_model.sav'\n",
    "pickle.dump(linReg, open(modelname, 'wb'))\n",
    "\n",
    "scalername = 'scaler.sav'\n",
    "pickle.dump(scaler, open(scalername, 'wb'))"
   ]
  }
 ],
 "metadata": {
  "kernelspec": {
   "display_name": "Python 3",
   "language": "python",
   "name": "python3"
  },
  "language_info": {
   "codemirror_mode": {
    "name": "ipython",
    "version": 3
   },
   "file_extension": ".py",
   "mimetype": "text/x-python",
   "name": "python",
   "nbconvert_exporter": "python",
   "pygments_lexer": "ipython3",
   "version": "3.8.5"
  }
 },
 "nbformat": 4,
 "nbformat_minor": 5
}
